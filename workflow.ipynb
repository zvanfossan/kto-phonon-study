{
 "cells": [
  {
   "cell_type": "markdown",
   "metadata": {},
   "source": [
    "# Decission Tree Regression Workflow\n",
    "\n",
    "This file demonstrates the workflow used for optimizing, training, and evaluating the decission tree regression models trained for predicting the soft phonon frequency of KTaO3. \n",
    "\n",
    "Start by loading the data sets and combining them into a feature matrix."
   ]
  },
  {
   "cell_type": "code",
   "execution_count": 19,
   "metadata": {},
   "outputs": [
    {
     "name": "stdout",
     "output_type": "stream",
     "text": [
      "     gm1  gm3_a0  gm3_0a  gm5_a00  gm5_0a0  gm5_00a    frequency\n",
      "0 -0.005     0.0 -0.0024      0.0    -0.01     0.00  7909.790147\n",
      "1 -0.005     0.0 -0.0024      0.0    -0.01     0.01  7619.874234\n",
      "2 -0.005     0.0 -0.0024      0.0    -0.01    -0.01  7619.800560\n",
      "3 -0.005     0.0 -0.0024      0.0     0.00    -0.01  7620.930328\n",
      "4 -0.005     0.0 -0.0024      0.0     0.00     0.00  7888.340652\n",
      "    exx  eyy   ezz   exy   exz   eyz     frequency\n",
      "0  0.01  0.0 -0.01 -0.01 -0.01  0.01 -11388.702497\n",
      "1  0.01  0.0 -0.01 -0.01 -0.01  0.00 -11396.867022\n",
      "2  0.01  0.0 -0.01 -0.01 -0.01 -0.01 -11384.635415\n",
      "3  0.01  0.0 -0.01 -0.01  0.01 -0.01 -11388.595566\n",
      "4  0.01  0.0 -0.01 -0.01  0.01  0.00 -11396.777134\n",
      "   average bond length  distortion index  bond angle variance    frequency\n",
      "0             1.988859          0.001129             0.240535  7909.790147\n",
      "1             1.988893          0.001140             0.480232  7619.874234\n",
      "2             1.988893          0.001140             0.480232  7619.800560\n",
      "3             1.988859          0.001146             0.239718  7620.930328\n",
      "4             1.988826          0.001135             0.000000  7888.340652\n"
     ]
    }
   ],
   "source": [
    "import pandas as pd\n",
    "\n",
    "df = pd.read_csv('data/irrep_order_parameter_magnitudes_and_phonon_frequency_dataset.csv')\n",
    "df1 = pd.read_csv('data/strain_tensor_component_and_phonon_frequency_dataset.csv')\n",
    "df2 = pd.read_csv('data/octahedron_structure_metrics_and_phonon_frequency_dataset.csv')\n",
    "print(df.head())\n",
    "print(df1.head())\n",
    "print(df2.head())"
   ]
  }
 ],
 "metadata": {
  "kernelspec": {
   "display_name": "Python 3",
   "language": "python",
   "name": "python3"
  },
  "language_info": {
   "codemirror_mode": {
    "name": "ipython",
    "version": 3
   },
   "file_extension": ".py",
   "mimetype": "text/x-python",
   "name": "python",
   "nbconvert_exporter": "python",
   "pygments_lexer": "ipython3",
   "version": "3.9.16"
  }
 },
 "nbformat": 4,
 "nbformat_minor": 2
}
